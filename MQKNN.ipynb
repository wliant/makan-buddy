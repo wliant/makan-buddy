{
 "cells": [
  {
   "cell_type": "code",
   "execution_count": 1,
   "metadata": {},
   "outputs": [],
   "source": [
    "import glob\n",
    "import numpy as np\n",
    "import operator\n",
    "import time\n"
   ]
  },
  {
   "cell_type": "code",
   "execution_count": 2,
   "metadata": {},
   "outputs": [
    {
     "name": "stdout",
     "output_type": "stream",
     "text": [
      "Started at Sun Apr 26 23:10:15 2020\n"
     ]
    }
   ],
   "source": [
    "\n",
    "d = 1792\n",
    "K = 20\n",
    "print(\"Started at %s\" %time.ctime())\n",
    "\n",
    "    \n"
   ]
  },
  {
   "cell_type": "code",
   "execution_count": 3,
   "metadata": {},
   "outputs": [],
   "source": [
    "allfiles = glob.glob('npz/*.npz')\n",
    "X = []\n",
    "file_name_mapping = {}\n",
    "for i, file_name in enumerate(allfiles):\n",
    "    file_name_mapping[i] = file_name\n",
    "    X.append(np.loadtxt(file_name))"
   ]
  },
  {
   "cell_type": "code",
   "execution_count": 4,
   "metadata": {},
   "outputs": [],
   "source": [
    "#generate query set, and random weights for testing\n",
    "Q = np.random.randint(low=0, high=len(X), size=5)\n",
    "queryFiles = [file_name_mapping[i] for i in Q]\n",
    "W = [0.2, 0.3, 0.2, 0.5, 0.8]\n",
    "Q = [X[i] for i in Q]\n",
    "\n"
   ]
  },
  {
   "cell_type": "code",
   "execution_count": 5,
   "metadata": {},
   "outputs": [],
   "source": [
    "#calculate delta_ijl\n",
    "delt = []\n",
    "for l in range(0, d):\n",
    "    delt_l = []\n",
    "    for j in range(0, len(Q)):\n",
    "        delt_j = []\n",
    "        for i in range(0, len(X)):\n",
    "            delta_value = W[j]*abs(X[i][l]-Q[j][l])\n",
    "            delt_j.append((i, delta_value))\n",
    "        delt_l.append(delt_j)\n",
    "    delt.append(delt_l)\n",
    "    \n"
   ]
  },
  {
   "cell_type": "code",
   "execution_count": 6,
   "metadata": {},
   "outputs": [],
   "source": [
    "#\"union\" of the index list\n",
    "KS_l_prime = []\n",
    "for l in range(0, d):\n",
    "    counter = {}\n",
    "    for j in range(0, len(Q)):\n",
    "        delt[l][j].sort(key = operator.itemgetter(1))\n",
    "        for id, dist in [delt[l][j][k] for k in range(0, K)]:\n",
    "            if id in counter:\n",
    "                val = counter[id]\n",
    "                counter[id] = (val[0]+1, val[1]+dist)\n",
    "            else:\n",
    "                counter[id] = (1, dist)\n",
    "    KS_l_prime.append(counter)\n"
   ]
  },
  {
   "cell_type": "code",
   "execution_count": 7,
   "metadata": {},
   "outputs": [
    {
     "name": "stdout",
     "output_type": "stream",
     "text": [
      "{4353, 7044, 13070, 9241, 14627, 23339, 18997, 4152, 59, 22844, 15040, 1857, 19395, 14408, 16207, 19666, 17502, 14949, 3960, 13946}\n",
      "{9241, 7720, 23339, 23468, 16561, 18997, 22965, 15671, 15040, 4801, 7289, 15819, 14795, 21206, 16484, 2282, 22260, 3960, 12025, 4479}\n"
     ]
    }
   ],
   "source": [
    "#id of k loweset distance in dimension l\n",
    "KS_l = []\n",
    "for l in range(0, d):\n",
    "    st = sorted(KS_l_prime[l].items(), key=lambda x: (-x[1][0], x[1][1]))\n",
    "    KS_l.append(set([st[k][0] for k in range(0, K)]))\n",
    "\n",
    "print(KS_l[0])\n",
    "print(KS_l[1])\n",
    "        "
   ]
  },
  {
   "cell_type": "code",
   "execution_count": 8,
   "metadata": {},
   "outputs": [],
   "source": [
    "#binary for each X_i, 1 if in KS_l of that dimension, 0 otherwise\n",
    "B_i = []\n",
    "for i in range(0, len(X)):\n",
    "    b_i = []\n",
    "    B_i.append([1 if i in KS_l[l] else 0 for l in range(0, d)])\n",
    "\n",
    "\n"
   ]
  },
  {
   "cell_type": "code",
   "execution_count": 9,
   "metadata": {},
   "outputs": [],
   "source": [
    "def q_bar_l(l):\n",
    "    nominator = 0\n",
    "    denominator = 0\n",
    "    for j in range(0, len(Q)):\n",
    "        nominator += W[j] * Q[j][l]\n",
    "        denominator += W[j]\n",
    "    return nominator/denominator\n",
    "\n",
    "#multiquery distance for each item\n",
    "MSD_i = []\n",
    "for i in range(0, len(X)):\n",
    "    nominator = 0\n",
    "    denominator = 0\n",
    "    for l in range(0, d):\n",
    "        if B_i[i][l] != 0:\n",
    "            nominator += abs(X[i][l]-q_bar_l(l))\n",
    "            denominator += 1\n",
    "    denominator = denominator ** 2\n",
    "    MSD_i.append((i, nominator/denominator if denominator > 0 else float('inf')))\n",
    "\n",
    "\n",
    "    \n"
   ]
  },
  {
   "cell_type": "code",
   "execution_count": 10,
   "metadata": {},
   "outputs": [],
   "source": [
    "st = sorted(MSD_i, key=lambda x: x[1])\n",
    "MQKNN = [st[k] for k in range(0, K)]\n"
   ]
  },
  {
   "cell_type": "code",
   "execution_count": 11,
   "metadata": {},
   "outputs": [
    {
     "name": "stdout",
     "output_type": "stream",
     "text": [
      "QuerySet\n",
      "['npz\\\\24_2656_6.npz', 'npz\\\\46_5020_2.npz', 'npz\\\\35_3874_2.npz', 'npz\\\\15_1727_5.npz', 'npz\\\\8_924_6.npz']\n",
      "MQKNN\n",
      "['npz\\\\26_2928_6.npz', 'npz\\\\0_0_4.npz', 'npz\\\\0_100_5.npz', 'npz\\\\0_101_2.npz', 'npz\\\\0_101_4.npz', 'npz\\\\0_0_1.npz', 'npz\\\\0_101_3.npz', 'npz\\\\0_102_4.npz', 'npz\\\\0_101_5.npz', 'npz\\\\0_100_1.npz', 'npz\\\\0_103_2.npz', 'npz\\\\0_0_5.npz', 'npz\\\\0_103_4.npz', 'npz\\\\0_102_1.npz', 'npz\\\\0_0_3.npz', 'npz\\\\0_103_5.npz', 'npz\\\\0_0_2.npz', 'npz\\\\0_102_5.npz', 'npz\\\\0_101_1.npz', 'npz\\\\0_103_3.npz']\n",
      "Endedat at Mon Apr 27 00:14:19 2020\n"
     ]
    }
   ],
   "source": [
    "print(\"QuerySet\")\n",
    "print(queryFiles)\n",
    "\n",
    "print(\"MQKNN\")\n",
    "print([file_name_mapping[ans[0]] for ans in MQKNN])\n",
    "print(\"Endedat at %s\" %time.ctime())"
   ]
  },
  {
   "cell_type": "code",
   "execution_count": null,
   "metadata": {},
   "outputs": [],
   "source": [
    "W = [0.2, 0.3, 0.2, 0.5, 0.8]"
   ]
  }
 ],
 "metadata": {
  "kernelspec": {
   "display_name": "Python 3",
   "language": "python",
   "name": "python3"
  },
  "language_info": {
   "codemirror_mode": {
    "name": "ipython",
    "version": 3
   },
   "file_extension": ".py",
   "mimetype": "text/x-python",
   "name": "python",
   "nbconvert_exporter": "python",
   "pygments_lexer": "ipython3",
   "version": "3.7.7"
  }
 },
 "nbformat": 4,
 "nbformat_minor": 4
}
