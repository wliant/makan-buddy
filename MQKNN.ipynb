{
 "cells": [
  {
   "cell_type": "code",
   "execution_count": 1,
   "metadata": {},
   "outputs": [],
   "source": [
    "import glob\n",
    "import numpy as np\n",
    "import operator\n",
    "import time\n"
   ]
  },
  {
   "cell_type": "code",
   "execution_count": 2,
   "metadata": {},
   "outputs": [
    {
     "name": "stdout",
     "output_type": "stream",
     "text": [
      "Started at Mon Apr 27 01:19:55 2020\n"
     ]
    }
   ],
   "source": [
    "\n",
    "d = 1792\n",
    "K = 20\n",
    "print(\"Started at %s\" %time.ctime())\n",
    "\n",
    "    \n"
   ]
  },
  {
   "cell_type": "code",
   "execution_count": 3,
   "metadata": {},
   "outputs": [
    {
     "name": "stdout",
     "output_type": "stream",
     "text": [
      "total files: 1743\n"
     ]
    }
   ],
   "source": [
    "#subset of files for faster performance\n",
    "allfiles = glob.glob('sub-npz/*.npz')\n",
    "X = []\n",
    "file_name_mapping = {}\n",
    "for i, file_name in enumerate(allfiles):\n",
    "    file_name_mapping[i] = file_name\n",
    "    X.append(np.loadtxt(file_name))\n",
    "    \n",
    "print(\"total files: {}\".format(len(X)))"
   ]
  },
  {
   "cell_type": "code",
   "execution_count": 4,
   "metadata": {},
   "outputs": [],
   "source": [
    "#generate query set, and random weights for testing\n",
    "Q = np.random.randint(low=0, high=len(X), size=5)\n",
    "queryFiles = [file_name_mapping[i] for i in Q]\n",
    "W = [0.2, 0.3, 0.2, 0.5, 0.8]\n",
    "Q = [X[i] for i in Q]\n",
    "\n"
   ]
  },
  {
   "cell_type": "code",
   "execution_count": 5,
   "metadata": {},
   "outputs": [],
   "source": [
    "#calculate delta_ijl\n",
    "delt = []\n",
    "for l in range(0, d):\n",
    "    delt_l = []\n",
    "    for j in range(0, len(Q)):\n",
    "        delt_j = []\n",
    "        for i in range(0, len(X)):\n",
    "            delta_value = W[j]*abs(X[i][l]-Q[j][l])\n",
    "            delt_j.append((i, delta_value))\n",
    "        delt_l.append(delt_j)\n",
    "    delt.append(delt_l)\n",
    "    \n"
   ]
  },
  {
   "cell_type": "code",
   "execution_count": 6,
   "metadata": {},
   "outputs": [],
   "source": [
    "#\"union\" of the index list\n",
    "KS_l_prime = []\n",
    "for l in range(0, d):\n",
    "    counter = {}\n",
    "    for j in range(0, len(Q)):\n",
    "        delt[l][j].sort(key = operator.itemgetter(1))\n",
    "        for id, dist in [delt[l][j][k] for k in range(0, K)]:\n",
    "            if id in counter:\n",
    "                val = counter[id]\n",
    "                counter[id] = (val[0]+1, val[1]+dist)\n",
    "            else:\n",
    "                counter[id] = (1, dist)\n",
    "    KS_l_prime.append(counter)\n"
   ]
  },
  {
   "cell_type": "code",
   "execution_count": 7,
   "metadata": {},
   "outputs": [
    {
     "name": "stdout",
     "output_type": "stream",
     "text": [
      "{261, 524, 1433, 28, 416, 44, 1070, 952, 324, 1734, 1607, 1246, 735, 480, 1124, 1129, 112, 626, 373, 1401}\n",
      "{129, 1411, 261, 1168, 1177, 1434, 793, 28, 1317, 44, 1200, 178, 698, 1342, 735, 881, 373, 1525, 1401, 763}\n"
     ]
    }
   ],
   "source": [
    "#id of k loweset distance in dimension l\n",
    "KS_l = []\n",
    "for l in range(0, d):\n",
    "    st = sorted(KS_l_prime[l].items(), key=lambda x: (-x[1][0], x[1][1]))\n",
    "    KS_l.append(set([st[k][0] for k in range(0, K)]))\n",
    "\n",
    "print(KS_l[0])\n",
    "print(KS_l[1])\n",
    "        "
   ]
  },
  {
   "cell_type": "code",
   "execution_count": 8,
   "metadata": {},
   "outputs": [],
   "source": [
    "#binary for each X_i, 1 if in KS_l of that dimension, 0 otherwise\n",
    "B_i = []\n",
    "for i in range(0, len(X)):\n",
    "    b_i = []\n",
    "    B_i.append([1 if i in KS_l[l] else 0 for l in range(0, d)])\n",
    "\n",
    "\n"
   ]
  },
  {
   "cell_type": "code",
   "execution_count": 9,
   "metadata": {},
   "outputs": [],
   "source": [
    "def q_bar_l(l):\n",
    "    nominator = 0\n",
    "    denominator = 0\n",
    "    for j in range(0, len(Q)):\n",
    "        nominator += W[j] * Q[j][l]\n",
    "        denominator += W[j]\n",
    "    return nominator/denominator\n",
    "\n",
    "#multiquery distance for each item\n",
    "MSD_i = []\n",
    "for i in range(0, len(X)):\n",
    "    nominator = 0\n",
    "    denominator = 0\n",
    "    for l in range(0, d):\n",
    "        if B_i[i][l] != 0:\n",
    "            nominator += abs(X[i][l]-q_bar_l(l))\n",
    "            denominator += 1\n",
    "    denominator = denominator ** 2\n",
    "    MSD_i.append((i, nominator/denominator if denominator > 0 else float('inf')))\n",
    "\n",
    "\n",
    "    \n"
   ]
  },
  {
   "cell_type": "code",
   "execution_count": 10,
   "metadata": {},
   "outputs": [],
   "source": [
    "st = sorted(MSD_i, key=lambda x: x[1])\n",
    "MQKNN = [st[k] for k in range(0, K)]\n"
   ]
  },
  {
   "cell_type": "code",
   "execution_count": 11,
   "metadata": {},
   "outputs": [
    {
     "name": "stdout",
     "output_type": "stream",
     "text": [
      "QuerySet\n",
      "['sub-npz\\\\0_46_3.npz', 'sub-npz\\\\1_139_1.npz', 'sub-npz\\\\2_266_1.npz', 'sub-npz\\\\0_107_4.npz', 'sub-npz\\\\0_104_4.npz']\n",
      "MQKNN\n",
      "['sub-npz\\\\0_101_2.npz', 'sub-npz\\\\0_0_4.npz', 'sub-npz\\\\0_100_5.npz', 'sub-npz\\\\0_0_2.npz', 'sub-npz\\\\0_100_4.npz', 'sub-npz\\\\0_0_3.npz', 'sub-npz\\\\0_102_4.npz', 'sub-npz\\\\0_103_2.npz', 'sub-npz\\\\0_101_5.npz', 'sub-npz\\\\0_102_1.npz', 'sub-npz\\\\0_101_4.npz', 'sub-npz\\\\0_0_1.npz', 'sub-npz\\\\0_0_5.npz', 'sub-npz\\\\0_100_2.npz', 'sub-npz\\\\0_104_4.npz', 'sub-npz\\\\0_103_1.npz', 'sub-npz\\\\0_102_2.npz', 'sub-npz\\\\0_101_1.npz', 'sub-npz\\\\0_101_3.npz', 'sub-npz\\\\0_103_4.npz']\n",
      "Endedat at Mon Apr 27 01:20:29 2020\n"
     ]
    }
   ],
   "source": [
    "print(\"QuerySet\")\n",
    "print(queryFiles)\n",
    "\n",
    "print(\"MQKNN\")\n",
    "print([file_name_mapping[ans[0]] for ans in MQKNN])\n",
    "print(\"Endedat at %s\" %time.ctime())"
   ]
  },
  {
   "cell_type": "code",
   "execution_count": 12,
   "metadata": {},
   "outputs": [],
   "source": [
    "W = [0.2, 0.3, 0.2, 0.5, 0.8]\n",
    "# conclusion, to use annoy clustering to reduce the image set, then apply MQKNN on the remaining image to get top 5."
   ]
  }
 ],
 "metadata": {
  "kernelspec": {
   "display_name": "Python 3",
   "language": "python",
   "name": "python3"
  },
  "language_info": {
   "codemirror_mode": {
    "name": "ipython",
    "version": 3
   },
   "file_extension": ".py",
   "mimetype": "text/x-python",
   "name": "python",
   "nbconvert_exporter": "python",
   "pygments_lexer": "ipython3",
   "version": "3.7.7"
  }
 },
 "nbformat": 4,
 "nbformat_minor": 4
}
